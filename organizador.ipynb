{
 "cells": [
  {
   "cell_type": "markdown",
   "id": "b041f9ec",
   "metadata": {},
   "source": [
    "A ideia é dividir o programa em diferentes classe, a classe agenda vai ser responsavel por agrupar as tarfas, a classe tarefa vai ser responsável por criar uma tarefa e especificar as restrições dela, a classe \"escalonador\" vai ser responsavel por distribuir as tarefas e organiza-las"
   ]
  },
  {
   "cell_type": "code",
   "execution_count": null,
   "id": "dae4206d",
   "metadata": {},
   "outputs": [],
   "source": [
    "class tarefa:\n",
    "    pass"
   ]
  },
  {
   "cell_type": "code",
   "execution_count": null,
   "id": "1ba40288",
   "metadata": {},
   "outputs": [],
   "source": [
    "class agenda:\n",
    "    pass"
   ]
  },
  {
   "cell_type": "code",
   "execution_count": null,
   "id": "9ba61e84",
   "metadata": {},
   "outputs": [],
   "source": [
    "class escalonador:\n",
    "    pass"
   ]
  }
 ],
 "metadata": {
  "language_info": {
   "name": "python"
  }
 },
 "nbformat": 4,
 "nbformat_minor": 5
}
