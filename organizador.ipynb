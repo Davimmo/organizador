{
 "cells": [
  {
   "cell_type": "markdown",
   "id": "b041f9ec",
   "metadata": {},
   "source": [
    "A ideia é dividir o programa em diferentes classe, a classe agenda vai ser responsavel por agrupar as tarfas, a classe tarefa vai ser responsável por criar uma tarefa e especificar as restrições dela, a classe \"escalonador\" vai ser responsavel por distribuir as tarefas e organiza-las"
   ]
  },
  {
   "cell_type": "code",
   "execution_count": null,
   "id": "dae4206d",
   "metadata": {},
   "outputs": [],
   "source": [
    "class tarefa:\n",
    "    def __inint__(self,nome,prioridade,repetição,prazo):\n",
    "        self.prazo=prazo\n",
    "        self."
   ]
  },
  {
   "cell_type": "code",
   "execution_count": null,
   "id": "1ba40288",
   "metadata": {},
   "outputs": [],
   "source": [
    "class agenda:\n",
    "    pass"
   ]
  },
  {
   "cell_type": "code",
   "execution_count": null,
   "id": "9ba61e84",
   "metadata": {},
   "outputs": [],
   "source": [
    "class escalonador:\n",
    "    pass"
   ]
  },
  {
   "cell_type": "code",
   "execution_count": null,
   "id": "ac9a6282",
   "metadata": {},
   "outputs": [
    {
     "name": "stdout",
     "output_type": "stream",
     "text": [
      "dificuldade, duração, idade, prazo, prioridade, repetição\n"
     ]
    }
   ],
   "source": [
    "#Célula temporaria para ordenar e exibir os atributos das classes\n",
    "lista = ['prazo', 'prioridade', 'repetição', 'duração', 'dificuldade', 'idade']\n",
    "lista.sort()\n",
    "print(', '.join(lista))"
   ]
  }
 ],
 "metadata": {
  "kernelspec": {
   "display_name": "Python 3",
   "language": "python",
   "name": "python3"
  },
  "language_info": {
   "codemirror_mode": {
    "name": "ipython",
    "version": 3
   },
   "file_extension": ".py",
   "mimetype": "text/x-python",
   "name": "python",
   "nbconvert_exporter": "python",
   "pygments_lexer": "ipython3",
   "version": "3.12.2"
  }
 },
 "nbformat": 4,
 "nbformat_minor": 5
}
