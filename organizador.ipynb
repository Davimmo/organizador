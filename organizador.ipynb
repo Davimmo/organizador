{
 "cells": [
  {
   "cell_type": "markdown",
   "id": "b041f9ec",
   "metadata": {},
   "source": [
    "A ideia é dividir o programa em diferentes classe, a classe agenda vai ser responsavel por agrupar as tarfas, a classe tarefa vai ser responsável por criar uma tarefa e especificar as restrições dela, a classe \"escalonador\" vai ser responsavel por distribuir as tarefas e organiza-las"
   ]
  },
  {
   "cell_type": "code",
   "execution_count": null,
   "id": "dae4206d",
   "metadata": {},
   "outputs": [],
   "source": [
    "import datetime\n",
    "import holidays\n",
    "\n",
    "def verifica_dia(data):\n",
    "    br_feriados = holidays.Brazil()\n",
    "\n",
    "    if data in br_feriados:\n",
    "        return f\"Feriado: {br_feriados[data]}\"\n",
    "    elif data.weekday() >= 5:\n",
    "        return \"Final de semana\"\n",
    "    else:\n",
    "        return \"Dia útil\"\n",
    "\n",
    "# Exemplo\n",
    "data = datetime.date(2024,10,12)\n",
    "print(verifica_dia(data))\n",
    "print(data)\n",
    "\n",
    "\n",
    "class tarefa:\n",
    "    def __init__(self, catergoria, data_e_hora_inicio, dificuldade, duração, idade, local, data_e_hora_final, prioridade, repetição,dias_na_semana,dias_no_mes,nivel_de_Satisfação,nivel_de_dificuldade):\n",
    "        self.catergoria = catergoria\n",
    "        self.data_e_hora_inicio = data_e_hora_inicio\n",
    "        self.dificuldade = dificuldade\n",
    "        self.duração = duração\n",
    "        self.idade = idade\n",
    "        self.local=local\n",
    "        self.data_e_hora_final = data_e_hora_final\n",
    "        self.prioridade = prioridade\n",
    "        self.repetição = repetição\n",
    "        self.nivel_de_Satisfação = nivel_de_Satisfação\n",
    "        self.nivel_de_dificuldade = nivel_de_dificuldade\n",
    "        dias_na_semana = None\n",
    "        dias_no_mes = None \n",
    "        is_final_de_semana = None\n",
    "        is_feriado = None\n",
    "        is_final_de_semana= None\n",
    "        \n",
    "\n",
    "        \n",
    "    pass\n",
    "    def get_dificuldade(self):\n",
    "        return self.dificuldade\n",
    "    def get_duração(self):\n",
    "        return self.duração\n",
    "    def get_idade(self):\n",
    "        return self.idade\n",
    "    def get_local(self):\n",
    "        return self.local\n",
    "    def get_prazo(self):\n",
    "        return self.prazo\n",
    "    def get_prioridade(self):\n",
    "        return self.prioridade\n",
    "    def get_repetição(self):\n",
    "        return self.repetição\n",
    "    pass\n",
    "\n"
   ]
  },
  {
   "cell_type": "markdown",
   "id": "c6e35e14",
   "metadata": {},
   "source": [
    "Adicionando um novo bloco para testar o retorno de data e hora"
   ]
  },
  {
   "cell_type": "code",
   "execution_count": 5,
   "id": "9e1ec3b6",
   "metadata": {},
   "outputs": [
    {
     "name": "stdout",
     "output_type": "stream",
     "text": [
      "Feriado: Nossa Senhora Aparecida\n",
      "2024-10-12\n"
     ]
    }
   ],
   "source": [
    "import datetime\n",
    "import holidays\n",
    "\n",
    "def verifica_dia(data):\n",
    "    br_feriados = holidays.Brazil()\n",
    "\n",
    "    if data in br_feriados:\n",
    "        return f\"Feriado: {br_feriados[data]}\"\n",
    "    elif data.weekday() >= 5:\n",
    "        return \"Final de semana\"\n",
    "    else:\n",
    "        return \"Dia útil\"\n",
    "\n",
    "# Exemplo\n",
    "data = datetime.date(2024,10,12)\n",
    "print(verifica_dia(data))\n",
    "print(data)"
   ]
  },
  {
   "cell_type": "markdown",
   "id": "e362de26",
   "metadata": {},
   "source": [
    "A ideia da agenda é que ela deve ser capaz de receber um dado conjunto de tarefas, devemos ser capaz de adicionar ou remover tarefas de uma agenda, mudar as tarefas de lugar etc, a pontuação total da agenda será dada conforme uma soma ponderada e normalizada desses critérios \n",
    "\n",
    "Algumas pontuações serão atribuidas ao desempenho de uma agenda com base em:\n",
    "1. Evitar muita coisa em um dia só\n",
    "2. Evitar muita dificuldade num dia só\n",
    "3. Ter intervalos entre as tarefas e entre os dias\n",
    "4. Evitar de fazer uma tarefa muito próxima do seu prazo\n",
    "5. Evitar atividades repetitivas no mesmo dia\n",
    "6. Aproveitar para unir tarefas que serão no mesmo local\n",
    "7. Aproveitar para unir tarefas similares quando possível\n",
    "8. Ter alguns espaços disponíveis caso seja necessário realocar algo\n",
    "9. Conseguir fazer o maior número de tarefas importantes\n",
    "10. Evitar uma tarefa a muito tempo sem ser realizada\n",
    "11. Não alterar os horários de tarefas que dependem de prazo especifico\n",
    "12. Dar prioridade para remanejar as tarefas que não dependem tanto de prazo\n",
    "13. Ser capaz de aprender conforme os padrões do usuário (aqui entra o treinamento do modelo)\n",
    "14. Encaixar tarefas em horários disponíveis em caso de cancelamento de alguma outra tarefa"
   ]
  },
  {
   "cell_type": "code",
   "execution_count": null,
   "id": "1ba40288",
   "metadata": {},
   "outputs": [],
   "source": [
    "class agenda:\n",
    "    def __init__(self):\n",
    "        lista_de_Tarefas = []\n",
    "        total_de_Tarefas = 0\n",
    "        pontuação_de_Prioridade = 0\n",
    "        pontuação_de_Dificuldade=0\n",
    "        pontuação_de_Intervalos=0\n",
    "        pontuação_envelhecimento=0\n",
    "        \n",
    "        \n",
    "        pass    \n",
    "    def getListadeTarefas(self):\n",
    "        pass\n",
    "    def get_Horarios_Livres(self):\n",
    "        pass\n",
    "    def get_Horarios_Ocupados(self):\n",
    "        pass\n",
    "    def adicionar_Tarefa(self):\n",
    "        pass\n",
    "    def remover_Tarefa(self):\n",
    "        pass\n",
    "    def exibir_Tarefas(self):\n",
    "        pass\n",
    "    def exibir_Horarios_Ocupados(self):\n",
    "        pass\n",
    "    def exibir_Horarios_Livres(self):\n",
    "        pass\n",
    "    def get_Tarefas_por_IntervalodeTempo(self):\n",
    "        pass"
   ]
  },
  {
   "cell_type": "code",
   "execution_count": null,
   "id": "9ba61e84",
   "metadata": {},
   "outputs": [],
   "source": [
    "class escalonador:\n",
    "    def __init__(self,agenda):\n",
    "        self.agenda=agenda\n",
    "        pass\n",
    "    def organizar_Tarefas():\n",
    "        pass\n",
    "    "
   ]
  },
  {
   "cell_type": "code",
   "execution_count": 8,
   "id": "ac9a6282",
   "metadata": {},
   "outputs": [
    {
     "name": "stdout",
     "output_type": "stream",
     "text": [
      "dificuldade, duração, idade, local, prazo, prioridade, repetição\n"
     ]
    }
   ],
   "source": [
    "#Célula temporaria para ordenar e exibir os atributos das classes\n",
    "lista = ['prazo', 'prioridade', 'repetição', 'duração', 'dificuldade', 'idade','local']\n",
    "lista.sort()\n",
    "print(', '.join(lista))"
   ]
  }
 ],
 "metadata": {
  "kernelspec": {
   "display_name": "Python 3",
   "language": "python",
   "name": "python3"
  },
  "language_info": {
   "codemirror_mode": {
    "name": "ipython",
    "version": 3
   },
   "file_extension": ".py",
   "mimetype": "text/x-python",
   "name": "python",
   "nbconvert_exporter": "python",
   "pygments_lexer": "ipython3",
   "version": "3.12.2"
  }
 },
 "nbformat": 4,
 "nbformat_minor": 5
}
