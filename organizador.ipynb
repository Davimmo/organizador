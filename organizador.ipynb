{
 "cells": [
  {
   "cell_type": "markdown",
   "id": "b041f9ec",
   "metadata": {},
   "source": [
    "A ideia é dividir o programa em diferentes classe, a classe agenda vai ser responsavel por agrupar as tarfas, a classe tarefa vai ser responsável por criar uma tarefa e especificar as restrições dela, a classe \"escalonador\" vai ser responsavel por distribuir as tarefas e organiza-las"
   ]
  },
  {
   "cell_type": "code",
   "execution_count": null,
   "id": "dae4206d",
   "metadata": {},
   "outputs": [],
   "source": [
    "class tarefa:\n",
    "    def __init__(self,dificuldade, duração, idade, local, prazo, prioridade, repetição):\n",
    "        self.dificuldade = dificuldade\n",
    "        self.duração = duração\n",
    "        self.idade = idade\n",
    "        self.local=local\n",
    "        self.prazo = prazo\n",
    "        self.prioridade = prioridade\n",
    "        self.repetição = repetição\n",
    "        is_final_de_semana = None\n",
    "        is_feriado = None\n",
    "    pass\n",
    "    def get_dificuldade(self):\n",
    "        return self.dificuldade\n",
    "    def get_duração(self):\n",
    "        return self.duração\n",
    "    def get_idade(self):\n",
    "        return self.idade\n",
    "    def get_local(self):\n",
    "        return self.local\n",
    "    def get_prazo(self):\n",
    "        return self.prazo\n",
    "    def get_prioridade(self):\n",
    "        return self.prioridade\n",
    "    def get_repetição(self):\n",
    "        return self.repetição\n",
    "\n"
   ]
  },
  {
   "cell_type": "code",
   "execution_count": null,
   "id": "1ba40288",
   "metadata": {},
   "outputs": [],
   "source": [
    "class agenda:\n",
    "    def __init__(self):\n",
    "        lista_de_Tarefas = []\n",
    "        pass    \n",
    "    def getListadeTarefas(self):\n",
    "        pass\n",
    "    def get_Horarios_Livres(self):\n",
    "        pass\n",
    "    def get_Horarios_Ocupados(self):\n",
    "        pass\n",
    "    def adicionar_Tarefa(self):\n",
    "        pass\n",
    "    def remover_Tarefa(self):\n",
    "        pass\n",
    "    def exibir_Tarefas(self):\n",
    "        pass\n",
    "\n"
   ]
  },
  {
   "cell_type": "code",
   "execution_count": null,
   "id": "9ba61e84",
   "metadata": {},
   "outputs": [],
   "source": [
    "class escalonador:\n",
    "    def __init__(self,agenda):\n",
    "        self.agenda=agenda\n",
    "        pass\n",
    "    def organizar_Tarefas():\n",
    "        pass\n",
    "    "
   ]
  },
  {
   "cell_type": "code",
   "execution_count": 8,
   "id": "ac9a6282",
   "metadata": {},
   "outputs": [
    {
     "name": "stdout",
     "output_type": "stream",
     "text": [
      "dificuldade, duração, idade, local, prazo, prioridade, repetição\n"
     ]
    }
   ],
   "source": [
    "#Célula temporaria para ordenar e exibir os atributos das classes\n",
    "lista = ['prazo', 'prioridade', 'repetição', 'duração', 'dificuldade', 'idade','local']\n",
    "lista.sort()\n",
    "print(', '.join(lista))"
   ]
  }
 ],
 "metadata": {
  "kernelspec": {
   "display_name": "Python 3",
   "language": "python",
   "name": "python3"
  },
  "language_info": {
   "codemirror_mode": {
    "name": "ipython",
    "version": 3
   },
   "file_extension": ".py",
   "mimetype": "text/x-python",
   "name": "python",
   "nbconvert_exporter": "python",
   "pygments_lexer": "ipython3",
   "version": "3.12.2"
  }
 },
 "nbformat": 4,
 "nbformat_minor": 5
}
